{
 "cells": [
  {
   "cell_type": "markdown",
   "id": "986f4f6a",
   "metadata": {},
   "source": [
    "# WELCOME TO THE NOTEBOOK"
   ]
  },
  {
   "cell_type": "markdown",
   "id": "eb54cc3e",
   "metadata": {},
   "source": [
    "\n",
    "\n",
    "## Introduction\n",
    "\n",
    "In this course, we will be discussing the four most important data structures in Python:\n",
    "- Lists \n",
    "- Tuples\n",
    "- Sets\n",
    "- Dictionaries\n",
    "\n",
    "\n"
   ]
  },
  {
   "cell_type": "markdown",
   "id": "c5b9968b",
   "metadata": {},
   "source": [
    "## Task 1\n",
    "### Lists\n",
    "A list is a collection of items in a particular order. Lists are mutable, which means you can add, remove, or modify items after the list has been created.\n",
    "\n",
    "Let's define a list of integers"
   ]
  },
  {
   "cell_type": "code",
   "execution_count": 3,
   "id": "fb79084b",
   "metadata": {},
   "outputs": [
    {
     "name": "stdout",
     "output_type": "stream",
     "text": [
      "[12, 5, 3, 9, 10]\n"
     ]
    }
   ],
   "source": [
    "numbers=[12,5,3,9,10]\n",
    "print(numbers)"
   ]
  },
  {
   "cell_type": "markdown",
   "id": "0e8419ce",
   "metadata": {},
   "source": [
    "Lists can have mixed data types"
   ]
  },
  {
   "cell_type": "code",
   "execution_count": 6,
   "id": "7f0a0b82",
   "metadata": {},
   "outputs": [
    {
     "data": {
      "text/plain": [
       "[12, 5, 'Ridham', 9.5]"
      ]
     },
     "execution_count": 6,
     "metadata": {},
     "output_type": "execute_result"
    }
   ],
   "source": [
    "mixed_list=[12,5,'Ridham',9.5]\n",
    "mixed_list"
   ]
  },
  {
   "cell_type": "markdown",
   "id": "8b8c03c3",
   "metadata": {},
   "source": [
    "Lists with string values "
   ]
  },
  {
   "cell_type": "code",
   "execution_count": 5,
   "id": "09ad7b79",
   "metadata": {},
   "outputs": [
    {
     "data": {
      "text/plain": [
       "['apple', 'banana', 'grapes']"
      ]
     },
     "execution_count": 5,
     "metadata": {},
     "output_type": "execute_result"
    }
   ],
   "source": [
    "fruits=['apple','banana','grapes']\n",
    "fruits"
   ]
  },
  {
   "cell_type": "markdown",
   "id": "3ae659ba",
   "metadata": {},
   "source": [
    "Accessing an element in the list"
   ]
  },
  {
   "cell_type": "code",
   "execution_count": 7,
   "id": "14f33e6f",
   "metadata": {},
   "outputs": [
    {
     "data": {
      "text/plain": [
       "'apple'"
      ]
     },
     "execution_count": 7,
     "metadata": {},
     "output_type": "execute_result"
    }
   ],
   "source": [
    "fruits[0]"
   ]
  },
  {
   "cell_type": "markdown",
   "id": "054bca94",
   "metadata": {},
   "source": [
    "List slicing "
   ]
  },
  {
   "cell_type": "code",
   "execution_count": 11,
   "id": "c1fdca25",
   "metadata": {},
   "outputs": [
    {
     "data": {
      "text/plain": [
       "['grapes']"
      ]
     },
     "execution_count": 11,
     "metadata": {},
     "output_type": "execute_result"
    }
   ],
   "source": [
    "(fruits[0:2])\n",
    "fruits[2:]"
   ]
  },
  {
   "cell_type": "markdown",
   "id": "38149c2e",
   "metadata": {},
   "source": [
    "Length of a list"
   ]
  },
  {
   "cell_type": "code",
   "execution_count": 12,
   "id": "95f237cd",
   "metadata": {},
   "outputs": [
    {
     "data": {
      "text/plain": [
       "3"
      ]
     },
     "execution_count": 12,
     "metadata": {},
     "output_type": "execute_result"
    }
   ],
   "source": [
    "len(fruits)"
   ]
  },
  {
   "cell_type": "markdown",
   "id": "ac70f5d8",
   "metadata": {},
   "source": [
    "Adding an element to the list"
   ]
  },
  {
   "cell_type": "code",
   "execution_count": 13,
   "id": "ea8acbd1",
   "metadata": {},
   "outputs": [],
   "source": [
    "fruits.append(\"oranges\")"
   ]
  },
  {
   "cell_type": "code",
   "execution_count": 14,
   "id": "c912d3f4",
   "metadata": {},
   "outputs": [
    {
     "data": {
      "text/plain": [
       "['apple', 'banana', 'grapes', 'oranges']"
      ]
     },
     "execution_count": 14,
     "metadata": {},
     "output_type": "execute_result"
    }
   ],
   "source": [
    "fruits"
   ]
  },
  {
   "cell_type": "code",
   "execution_count": 15,
   "id": "ed5ff55a",
   "metadata": {},
   "outputs": [],
   "source": [
    "fruits[0]='kivi'"
   ]
  },
  {
   "cell_type": "code",
   "execution_count": 16,
   "id": "02294887",
   "metadata": {},
   "outputs": [
    {
     "data": {
      "text/plain": [
       "['kivi', 'banana', 'grapes', 'oranges']"
      ]
     },
     "execution_count": 16,
     "metadata": {},
     "output_type": "execute_result"
    }
   ],
   "source": [
    "fruits"
   ]
  },
  {
   "cell_type": "code",
   "execution_count": 17,
   "id": "b3d98c8f",
   "metadata": {},
   "outputs": [
    {
     "data": {
      "text/plain": [
       "['lemone', 'mango', 'kivi', 'banana', 'grapes', 'oranges']"
      ]
     },
     "execution_count": 17,
     "metadata": {},
     "output_type": "execute_result"
    }
   ],
   "source": [
    "fruits2=['lemone','mango']\n",
    "fruits2.extend(fruits)\n",
    "fruits2"
   ]
  },
  {
   "cell_type": "markdown",
   "id": "dcd924fb",
   "metadata": {},
   "source": [
    "Counting the number of occurrences of an item"
   ]
  },
  {
   "cell_type": "code",
   "execution_count": 20,
   "id": "01de7f64",
   "metadata": {},
   "outputs": [
    {
     "name": "stdout",
     "output_type": "stream",
     "text": [
      "0\n",
      "1\n"
     ]
    }
   ],
   "source": [
    "print(fruits.count('Ridham'))\n",
    "print(fruits.count('banana'))"
   ]
  },
  {
   "cell_type": "markdown",
   "id": "10f8f72f",
   "metadata": {},
   "source": [
    "Removing an element from the list"
   ]
  },
  {
   "cell_type": "code",
   "execution_count": 21,
   "id": "2e4dcbbf",
   "metadata": {},
   "outputs": [
    {
     "name": "stdout",
     "output_type": "stream",
     "text": [
      "['kivi', 'banana', 'grapes', 'oranges']\n",
      "['banana', 'grapes', 'oranges']\n"
     ]
    }
   ],
   "source": [
    "print(fruits)\n",
    "fruits.remove('kivi')\n",
    "print(fruits)"
   ]
  },
  {
   "cell_type": "markdown",
   "id": "c1938ca1",
   "metadata": {},
   "source": [
    "Exercise: Create a list of your favorite movies and print the list. Then, add one more movie to the list and print the updated list."
   ]
  },
  {
   "cell_type": "code",
   "execution_count": 23,
   "id": "930393fb",
   "metadata": {},
   "outputs": [
    {
     "data": {
      "text/plain": [
       "['Die Hard 1', 'Spider Man', 'John Wick']"
      ]
     },
     "execution_count": 23,
     "metadata": {},
     "output_type": "execute_result"
    }
   ],
   "source": [
    "movies=['Die Hard 1',\"Spider Man\"]\n",
    "movies.append(\"John Wick\")\n",
    "movies"
   ]
  },
  {
   "cell_type": "markdown",
   "id": "089ffdd1",
   "metadata": {},
   "source": [
    "Sorting a list "
   ]
  },
  {
   "cell_type": "code",
   "execution_count": 25,
   "id": "1936af27",
   "metadata": {},
   "outputs": [
    {
     "data": {
      "text/plain": [
       "['banana', 'grapes', 'kivi', 'lemone', 'mango', 'oranges']"
      ]
     },
     "execution_count": 25,
     "metadata": {},
     "output_type": "execute_result"
    }
   ],
   "source": [
    "fruits2.sort()\n",
    "fruits2"
   ]
  },
  {
   "cell_type": "code",
   "execution_count": 28,
   "id": "343fa351",
   "metadata": {},
   "outputs": [
    {
     "data": {
      "text/plain": [
       "[3, 5, 9, 10, 12]"
      ]
     },
     "execution_count": 28,
     "metadata": {},
     "output_type": "execute_result"
    }
   ],
   "source": [
    "numbers.sort()\n",
    "numbers"
   ]
  },
  {
   "cell_type": "markdown",
   "id": "fa17bc21",
   "metadata": {},
   "source": [
    "Empty a list"
   ]
  },
  {
   "cell_type": "markdown",
   "id": "45f00e29",
   "metadata": {},
   "source": [
    "Length of a tuple"
   ]
  },
  {
   "cell_type": "code",
   "execution_count": 29,
   "id": "78534d61",
   "metadata": {},
   "outputs": [
    {
     "name": "stdout",
     "output_type": "stream",
     "text": [
      "[3, 5, 9, 10, 12]\n"
     ]
    },
    {
     "data": {
      "text/plain": [
       "[]"
      ]
     },
     "execution_count": 29,
     "metadata": {},
     "output_type": "execute_result"
    }
   ],
   "source": [
    "print(numbers)\n",
    "numbers.clear()\n",
    "numbers"
   ]
  },
  {
   "cell_type": "markdown",
   "id": "3c891f63",
   "metadata": {},
   "source": [
    "# **List of Lists**"
   ]
  },
  {
   "cell_type": "code",
   "execution_count": 32,
   "id": "c5e503d4",
   "metadata": {},
   "outputs": [],
   "source": [
    "matrix=[[1,2,3],[4,5,6],[7,8,9]]"
   ]
  },
  {
   "cell_type": "code",
   "execution_count": 34,
   "id": "935d7a50",
   "metadata": {},
   "outputs": [
    {
     "data": {
      "text/plain": [
       "3"
      ]
     },
     "execution_count": 34,
     "metadata": {},
     "output_type": "execute_result"
    }
   ],
   "source": [
    "matrix[0][2]"
   ]
  },
  {
   "cell_type": "markdown",
   "id": "e91bc7c1",
   "metadata": {},
   "source": [
    "# Tuples"
   ]
  },
  {
   "cell_type": "code",
   "execution_count": 37,
   "id": "0a9af96c",
   "metadata": {},
   "outputs": [],
   "source": [
    "numbers=(1,2,3)"
   ]
  },
  {
   "cell_type": "code",
   "execution_count": 38,
   "id": "09fe47c3",
   "metadata": {},
   "outputs": [
    {
     "data": {
      "text/plain": [
       "(1, 2, 3)"
      ]
     },
     "execution_count": 38,
     "metadata": {},
     "output_type": "execute_result"
    }
   ],
   "source": [
    "numbers"
   ]
  },
  {
   "cell_type": "code",
   "execution_count": 39,
   "id": "5414bc1d",
   "metadata": {},
   "outputs": [
    {
     "data": {
      "text/plain": [
       "3"
      ]
     },
     "execution_count": 39,
     "metadata": {},
     "output_type": "execute_result"
    }
   ],
   "source": [
    "len(numbers)"
   ]
  },
  {
   "cell_type": "markdown",
   "id": "743128f4",
   "metadata": {},
   "source": [
    "Repetition of a tuple"
   ]
  },
  {
   "cell_type": "code",
   "execution_count": 40,
   "id": "c39721fe",
   "metadata": {},
   "outputs": [
    {
     "data": {
      "text/plain": [
       "(1, 2, 3, 1, 2, 3, 1, 2, 3)"
      ]
     },
     "execution_count": 40,
     "metadata": {},
     "output_type": "execute_result"
    }
   ],
   "source": [
    "numbers*3"
   ]
  },
  {
   "cell_type": "markdown",
   "id": "959af2d4",
   "metadata": {},
   "source": [
    "Index of an item"
   ]
  },
  {
   "cell_type": "code",
   "execution_count": 41,
   "id": "21ee9ccd",
   "metadata": {},
   "outputs": [
    {
     "data": {
      "text/plain": [
       "2"
      ]
     },
     "execution_count": 41,
     "metadata": {},
     "output_type": "execute_result"
    }
   ],
   "source": [
    "numbers.index(3)"
   ]
  },
  {
   "cell_type": "markdown",
   "id": "16419761",
   "metadata": {},
   "source": [
    "Counting the number of occurrences of an item"
   ]
  },
  {
   "cell_type": "code",
   "execution_count": 42,
   "id": "cf2b1503",
   "metadata": {},
   "outputs": [
    {
     "data": {
      "text/plain": [
       "1"
      ]
     },
     "execution_count": 42,
     "metadata": {},
     "output_type": "execute_result"
    }
   ],
   "source": [
    "numbers.count(2)"
   ]
  },
  {
   "cell_type": "markdown",
   "id": "ddd855b3",
   "metadata": {},
   "source": [
    "### Sets\n",
    "A set is a collection of unique items without any specific order.Sets are useful when you need to store unique values and perform operations like union, intersection, difference, etc. "
   ]
  },
  {
   "cell_type": "code",
   "execution_count": 44,
   "id": "8f980c92",
   "metadata": {},
   "outputs": [],
   "source": [
    "number1={1,2,3,4,5,6,7,8,9,10}\n",
    "number2={1,34,13,4,5,6,12,56,9,15}"
   ]
  },
  {
   "cell_type": "markdown",
   "id": "eeadfe2e",
   "metadata": {},
   "source": [
    "Union of two sets"
   ]
  },
  {
   "cell_type": "code",
   "execution_count": 46,
   "id": "f1e0410c",
   "metadata": {},
   "outputs": [
    {
     "data": {
      "text/plain": [
       "{1, 2, 3, 4, 5, 6, 7, 8, 9, 10, 12, 13, 15, 34, 56}"
      ]
     },
     "execution_count": 46,
     "metadata": {},
     "output_type": "execute_result"
    }
   ],
   "source": [
    "number1 | number2"
   ]
  },
  {
   "cell_type": "markdown",
   "id": "5cb38470",
   "metadata": {},
   "source": [
    "Intersection of two sets"
   ]
  },
  {
   "cell_type": "code",
   "execution_count": 47,
   "id": "561f6ccb",
   "metadata": {},
   "outputs": [
    {
     "data": {
      "text/plain": [
       "{1, 4, 5, 6, 9}"
      ]
     },
     "execution_count": 47,
     "metadata": {},
     "output_type": "execute_result"
    }
   ],
   "source": [
    "number1 & number2"
   ]
  },
  {
   "cell_type": "markdown",
   "id": "b7726651",
   "metadata": {},
   "source": [
    "Difference of two sets"
   ]
  },
  {
   "cell_type": "code",
   "execution_count": 48,
   "id": "2c9076bd",
   "metadata": {},
   "outputs": [
    {
     "data": {
      "text/plain": [
       "{2, 3, 7, 8, 10}"
      ]
     },
     "execution_count": 48,
     "metadata": {},
     "output_type": "execute_result"
    }
   ],
   "source": [
    "number1 - number2"
   ]
  },
  {
   "cell_type": "markdown",
   "id": "a77cf5cb",
   "metadata": {},
   "source": [
    "Add an item to a set"
   ]
  },
  {
   "cell_type": "code",
   "execution_count": 49,
   "id": "3e6dd917",
   "metadata": {},
   "outputs": [],
   "source": [
    "number1.add(99)"
   ]
  },
  {
   "cell_type": "code",
   "execution_count": 50,
   "id": "296dfb32",
   "metadata": {},
   "outputs": [
    {
     "data": {
      "text/plain": [
       "{1, 2, 3, 4, 5, 6, 7, 8, 9, 10, 99}"
      ]
     },
     "execution_count": 50,
     "metadata": {},
     "output_type": "execute_result"
    }
   ],
   "source": [
    "number1"
   ]
  },
  {
   "cell_type": "markdown",
   "id": "c75c2c8b",
   "metadata": {},
   "source": [
    "Remove an item from a set"
   ]
  },
  {
   "cell_type": "code",
   "execution_count": 51,
   "id": "e03feabd",
   "metadata": {},
   "outputs": [
    {
     "data": {
      "text/plain": [
       "{2, 3, 4, 5, 6, 7, 8, 9, 10, 99}"
      ]
     },
     "execution_count": 51,
     "metadata": {},
     "output_type": "execute_result"
    }
   ],
   "source": [
    "number1.remove(1)\n",
    "number1"
   ]
  },
  {
   "cell_type": "markdown",
   "id": "6e41724b",
   "metadata": {},
   "source": [
    "Check if an item is in a set"
   ]
  },
  {
   "cell_type": "code",
   "execution_count": 53,
   "id": "d1c1ebbe",
   "metadata": {},
   "outputs": [
    {
     "data": {
      "text/plain": [
       "False"
      ]
     },
     "execution_count": 53,
     "metadata": {},
     "output_type": "execute_result"
    }
   ],
   "source": [
    "100 in number1"
   ]
  },
  {
   "cell_type": "markdown",
   "id": "7ec36ed6",
   "metadata": {},
   "source": [
    "### Task 4\n",
    "\n",
    "### Dictionaries \n",
    "A dictionary is a collection of key-value pairs, where each key is unique."
   ]
  },
  {
   "cell_type": "markdown",
   "id": "d966bcd8",
   "metadata": {},
   "source": [
    "Creating a dictionary"
   ]
  },
  {
   "cell_type": "code",
   "execution_count": 55,
   "id": "fa1d90ce",
   "metadata": {},
   "outputs": [
    {
     "data": {
      "text/plain": [
       "{'key1': 'value1',\n",
       " 'key2': 'value2',\n",
       " 'key3': 'value3',\n",
       " 'key4': 'value4',\n",
       " 'key5': 'value5'}"
      ]
     },
     "execution_count": 55,
     "metadata": {},
     "output_type": "execute_result"
    }
   ],
   "source": [
    "a={\"key1\":\"value1\",\"key2\":\"value2\",\"key3\":\"value3\",\"key4\":\"value4\",\"key5\":\"value5\"}\n",
    "a\n"
   ]
  },
  {
   "cell_type": "markdown",
   "id": "99897764",
   "metadata": {},
   "source": [
    "Accessing a value"
   ]
  },
  {
   "cell_type": "code",
   "execution_count": 56,
   "id": "859eef7a",
   "metadata": {},
   "outputs": [
    {
     "data": {
      "text/plain": [
       "'value5'"
      ]
     },
     "execution_count": 56,
     "metadata": {},
     "output_type": "execute_result"
    }
   ],
   "source": [
    "a['key5']"
   ]
  },
  {
   "cell_type": "markdown",
   "id": "64efd741",
   "metadata": {},
   "source": [
    "Updating a value"
   ]
  },
  {
   "cell_type": "code",
   "execution_count": 57,
   "id": "e6fe14ca",
   "metadata": {},
   "outputs": [
    {
     "data": {
      "text/plain": [
       "10"
      ]
     },
     "execution_count": 57,
     "metadata": {},
     "output_type": "execute_result"
    }
   ],
   "source": [
    "a['key5']\n",
    "a['key5']=10\n",
    "a['key5']"
   ]
  },
  {
   "cell_type": "markdown",
   "id": "7df6e124",
   "metadata": {},
   "source": [
    "Adding a new key-value pair"
   ]
  },
  {
   "cell_type": "code",
   "execution_count": 59,
   "id": "62b93674",
   "metadata": {},
   "outputs": [
    {
     "data": {
      "text/plain": [
       "{'key1': 'value1',\n",
       " 'key2': 'value2',\n",
       " 'key3': 'value3',\n",
       " 'key4': 'value4',\n",
       " 'key5': 10,\n",
       " 'name': 'Harman'}"
      ]
     },
     "execution_count": 59,
     "metadata": {},
     "output_type": "execute_result"
    }
   ],
   "source": [
    "a['name']=\"Harman\"\n",
    "a"
   ]
  },
  {
   "cell_type": "markdown",
   "id": "06d75a3b",
   "metadata": {},
   "source": [
    "Removing a key-value pair"
   ]
  },
  {
   "cell_type": "code",
   "execution_count": 61,
   "id": "5996f0dc",
   "metadata": {},
   "outputs": [
    {
     "name": "stdout",
     "output_type": "stream",
     "text": [
      "{'key1': 'value1', 'key2': 'value2', 'key3': 'value3', 'key4': 'value4', 'key5': 10, 'name': 'Harman'}\n"
     ]
    },
    {
     "data": {
      "text/plain": [
       "{'key1': 'value1',\n",
       " 'key2': 'value2',\n",
       " 'key3': 'value3',\n",
       " 'key4': 'value4',\n",
       " 'name': 'Harman'}"
      ]
     },
     "execution_count": 61,
     "metadata": {},
     "output_type": "execute_result"
    }
   ],
   "source": [
    "print(a)\n",
    "del a['key5']\n",
    "a"
   ]
  },
  {
   "cell_type": "markdown",
   "id": "a33635e3",
   "metadata": {},
   "source": [
    "Check if a key is in a dictionary"
   ]
  },
  {
   "cell_type": "code",
   "execution_count": 62,
   "id": "faf62c98",
   "metadata": {},
   "outputs": [
    {
     "data": {
      "text/plain": [
       "True"
      ]
     },
     "execution_count": 62,
     "metadata": {},
     "output_type": "execute_result"
    }
   ],
   "source": [
    "\"name\" in a"
   ]
  },
  {
   "cell_type": "markdown",
   "id": "c487bfd9",
   "metadata": {},
   "source": [
    "Get all keys"
   ]
  },
  {
   "cell_type": "code",
   "execution_count": 63,
   "id": "c04578ae",
   "metadata": {},
   "outputs": [
    {
     "data": {
      "text/plain": [
       "dict_keys(['key1', 'key2', 'key3', 'key4', 'name'])"
      ]
     },
     "execution_count": 63,
     "metadata": {},
     "output_type": "execute_result"
    }
   ],
   "source": [
    "a.keys()"
   ]
  },
  {
   "cell_type": "markdown",
   "id": "916fd0ab",
   "metadata": {},
   "source": [
    "Get all values"
   ]
  },
  {
   "cell_type": "code",
   "execution_count": 65,
   "id": "4e2812b3",
   "metadata": {},
   "outputs": [
    {
     "data": {
      "text/plain": [
       "dict_values(['value1', 'value2', 'value3', 'value4', 'Harman'])"
      ]
     },
     "execution_count": 65,
     "metadata": {},
     "output_type": "execute_result"
    }
   ],
   "source": [
    "a.values()"
   ]
  },
  {
   "cell_type": "markdown",
   "id": "b681a1b2",
   "metadata": {},
   "source": [
    "Get all key-value pair"
   ]
  },
  {
   "cell_type": "code",
   "execution_count": 66,
   "id": "45206984",
   "metadata": {},
   "outputs": [
    {
     "data": {
      "text/plain": [
       "{'key1': 'value1',\n",
       " 'key2': 'value2',\n",
       " 'key3': 'value3',\n",
       " 'key4': 'value4',\n",
       " 'name': 'Harman'}"
      ]
     },
     "execution_count": 66,
     "metadata": {},
     "output_type": "execute_result"
    }
   ],
   "source": [
    "a"
   ]
  },
  {
   "cell_type": "markdown",
   "id": "867f1389",
   "metadata": {},
   "source": [
    "### Task 4 "
   ]
  },
  {
   "cell_type": "markdown",
   "id": "cbc0f167",
   "metadata": {},
   "source": [
    "### Student Performance Analysis\n",
    "Imagine you're a school teacher and you want to keep track of your students' grades. You can create a list of dictionaries, where each dictionary represents a student. "
   ]
  },
  {
   "cell_type": "code",
   "execution_count": 68,
   "id": "510fdd34",
   "metadata": {},
   "outputs": [
    {
     "data": {
      "text/plain": [
       "10"
      ]
     },
     "execution_count": 68,
     "metadata": {},
     "output_type": "execute_result"
    }
   ],
   "source": [
    "students = [    \n",
    "    {   \n",
    "        \"name\": \"Alice\",\n",
    "        \"grades\": [95, 92, 88],\n",
    "        \"address\": (\"123 Main St.\", \"San Francisco\", \"CA\", \"94105\"),\n",
    "        \"courses\": [\"Math\", \"Science\", \"History\"]\n",
    "    },\n",
    "    {\n",
    "        \"name\": \"Bob\",\n",
    "        \"grades\": [80, 85, 82],\n",
    "        \"address\": (\"456 Oak Ave.\", \"Oakland\", \"CA\", \"94610\"),\n",
    "        \"courses\": [\"English\", \"Art\", \"Music\"]\n",
    "    },\n",
    "    {\n",
    "        \"name\": \"Charlie\",\n",
    "        \"grades\": [90, 92, 96],\n",
    "        \"address\": (\"789 Maple Blvd.\", \"San Jose\", \"CA\", \"95110\"),\n",
    "        \"courses\": [\"History\", \"Geography\", \"Economics\"]\n",
    "    },\n",
    "    {\n",
    "        \"name\": \"David\",\n",
    "        \"grades\": [75, 87, 83],\n",
    "        \"address\": (\"246 Elm St.\", \"San Francisco\", \"CA\", \"94107\"),\n",
    "        \"courses\": [\"Physics\", \"Chemistry\", \"Biology\"]\n",
    "    },\n",
    "    {\n",
    "        \"name\": \"Emily\",\n",
    "        \"grades\": [97, 94, 91],\n",
    "        \"address\": (\"135 Pine Ave.\", \"Oakland\", \"CA\", \"94611\"),\n",
    "        \"courses\": [\"English\", \"History\", \"Literature\"]\n",
    "    },\n",
    "    {\n",
    "        \"name\": \"Frank\",\n",
    "        \"grades\": [88, 90, 86],\n",
    "        \"address\": (\"369 Cedar Blvd.\", \"San Jose\", \"CA\", \"95112\"),\n",
    "        \"courses\": [\"Math\", \"Computer Science\", \"Physics\"]\n",
    "    },\n",
    "    {\n",
    "        \"name\": \"Grace\",\n",
    "        \"grades\": [93, 95, 92],\n",
    "        \"address\": (\"159 Maple St.\", \"San Francisco\", \"CA\", \"94108\"),\n",
    "        \"courses\": [\"History\", \"Geography\", \"Social Studies\"]\n",
    "    },\n",
    "    {\n",
    "        \"name\": \"Henry\",\n",
    "        \"grades\": [85, 84, 82],\n",
    "        \"address\": (\"753 Oak St.\", \"Oakland\", \"CA\", \"94612\"),\n",
    "        \"courses\": [\"Music\", \"Art\", \"Theater\"]\n",
    "    },\n",
    "    {\n",
    "        \"name\": \"Isabelle\",\n",
    "        \"grades\": [96, 97, 98],\n",
    "        \"address\": (\"924 Cedar Ave.\", \"San Jose\", \"CA\", \"95113\"),\n",
    "        \"courses\": [\"Math\", \"Science\", \"Engineering\"]\n",
    "    },\n",
    "    {\n",
    "        \"name\": \"Jack\",\n",
    "        \"grades\": [89, 91, 87],\n",
    "        \"address\": (\"731 Elm St.\", \"San Francisco\", \"CA\", \"94109\"),\n",
    "        \"courses\": [\"Literature\", \"English\", \"Philosophy\"]\n",
    "    }\n",
    "]\n",
    "len(students)"
   ]
  },
  {
   "cell_type": "markdown",
   "id": "481ef75a",
   "metadata": {},
   "source": [
    "Let's add a new key-value to each student item to store their average grade."
   ]
  },
  {
   "cell_type": "code",
   "execution_count": 75,
   "id": "66d2f476",
   "metadata": {},
   "outputs": [
    {
     "data": {
      "text/plain": [
       "[{'name': 'Alice',\n",
       "  'grades': [95, 92, 88],\n",
       "  'address': ('123 Main St.', 'San Francisco', 'CA', '94105'),\n",
       "  'courses': ['Math', 'Science', 'History'],\n",
       "  'average_grade': 92},\n",
       " {'name': 'Bob',\n",
       "  'grades': [80, 85, 82],\n",
       "  'address': ('456 Oak Ave.', 'Oakland', 'CA', '94610'),\n",
       "  'courses': ['English', 'Art', 'Music'],\n",
       "  'average_grade': 82},\n",
       " {'name': 'Charlie',\n",
       "  'grades': [90, 92, 96],\n",
       "  'address': ('789 Maple Blvd.', 'San Jose', 'CA', '95110'),\n",
       "  'courses': ['History', 'Geography', 'Economics'],\n",
       "  'average_grade': 93},\n",
       " {'name': 'David',\n",
       "  'grades': [75, 87, 83],\n",
       "  'address': ('246 Elm St.', 'San Francisco', 'CA', '94107'),\n",
       "  'courses': ['Physics', 'Chemistry', 'Biology'],\n",
       "  'average_grade': 82},\n",
       " {'name': 'Emily',\n",
       "  'grades': [97, 94, 91],\n",
       "  'address': ('135 Pine Ave.', 'Oakland', 'CA', '94611'),\n",
       "  'courses': ['English', 'History', 'Literature'],\n",
       "  'average_grade': 94},\n",
       " {'name': 'Frank',\n",
       "  'grades': [88, 90, 86],\n",
       "  'address': ('369 Cedar Blvd.', 'San Jose', 'CA', '95112'),\n",
       "  'courses': ['Math', 'Computer Science', 'Physics'],\n",
       "  'average_grade': 88},\n",
       " {'name': 'Grace',\n",
       "  'grades': [93, 95, 92],\n",
       "  'address': ('159 Maple St.', 'San Francisco', 'CA', '94108'),\n",
       "  'courses': ['History', 'Geography', 'Social Studies'],\n",
       "  'average_grade': 93},\n",
       " {'name': 'Henry',\n",
       "  'grades': [85, 84, 82],\n",
       "  'address': ('753 Oak St.', 'Oakland', 'CA', '94612'),\n",
       "  'courses': ['Music', 'Art', 'Theater'],\n",
       "  'average_grade': 84},\n",
       " {'name': 'Isabelle',\n",
       "  'grades': [96, 97, 98],\n",
       "  'address': ('924 Cedar Ave.', 'San Jose', 'CA', '95113'),\n",
       "  'courses': ['Math', 'Science', 'Engineering'],\n",
       "  'average_grade': 97},\n",
       " {'name': 'Jack',\n",
       "  'grades': [89, 91, 87],\n",
       "  'address': ('731 Elm St.', 'San Francisco', 'CA', '94109'),\n",
       "  'courses': ['Literature', 'English', 'Philosophy'],\n",
       "  'average_grade': 89}]"
      ]
     },
     "execution_count": 75,
     "metadata": {},
     "output_type": "execute_result"
    }
   ],
   "source": [
    "for student in students:\n",
    "    student['average_grade']=round(sum(student['grades'])/3)\n",
    "students"
   ]
  },
  {
   "cell_type": "markdown",
   "id": "d6ff5ac0",
   "metadata": {},
   "source": [
    "Exercise: Find the student with the highest average grade."
   ]
  },
  {
   "cell_type": "code",
   "execution_count": 78,
   "id": "ea2e3203",
   "metadata": {},
   "outputs": [
    {
     "data": {
      "text/plain": [
       "{'name': 'Isabelle',\n",
       " 'grades': [96, 97, 98],\n",
       " 'address': ('924 Cedar Ave.', 'San Jose', 'CA', '95113'),\n",
       " 'courses': ['Math', 'Science', 'Engineering'],\n",
       " 'average_grade': 97}"
      ]
     },
     "execution_count": 78,
     "metadata": {},
     "output_type": "execute_result"
    }
   ],
   "source": [
    "temp=0\n",
    "for student in students:\n",
    "     if(student['average_grade']>temp):\n",
    "            temp=student['average_grade']\n",
    "            top_student=student\n",
    "top_student"
   ]
  },
  {
   "cell_type": "markdown",
   "id": "38bf568c",
   "metadata": {},
   "source": [
    "Storing the courses and the grades in a dictionary"
   ]
  },
  {
   "cell_type": "code",
   "execution_count": 80,
   "id": "e7992667",
   "metadata": {},
   "outputs": [
    {
     "data": {
      "text/plain": [
       "[{'name': 'Alice',\n",
       "  'grades': [95, 92, 88],\n",
       "  'address': ('123 Main St.', 'San Francisco', 'CA', '94105'),\n",
       "  'courses': ['Math', 'Science', 'History'],\n",
       "  'average_grade': 92,\n",
       "  'course_grade': {'Math': 95, 'Science': 92, 'History': 88}},\n",
       " {'name': 'Bob',\n",
       "  'grades': [80, 85, 82],\n",
       "  'address': ('456 Oak Ave.', 'Oakland', 'CA', '94610'),\n",
       "  'courses': ['English', 'Art', 'Music'],\n",
       "  'average_grade': 82,\n",
       "  'course_grade': {'English': 80, 'Art': 85, 'Music': 82}},\n",
       " {'name': 'Charlie',\n",
       "  'grades': [90, 92, 96],\n",
       "  'address': ('789 Maple Blvd.', 'San Jose', 'CA', '95110'),\n",
       "  'courses': ['History', 'Geography', 'Economics'],\n",
       "  'average_grade': 93,\n",
       "  'course_grade': {'History': 90, 'Geography': 92, 'Economics': 96}},\n",
       " {'name': 'David',\n",
       "  'grades': [75, 87, 83],\n",
       "  'address': ('246 Elm St.', 'San Francisco', 'CA', '94107'),\n",
       "  'courses': ['Physics', 'Chemistry', 'Biology'],\n",
       "  'average_grade': 82,\n",
       "  'course_grade': {'Physics': 75, 'Chemistry': 87, 'Biology': 83}},\n",
       " {'name': 'Emily',\n",
       "  'grades': [97, 94, 91],\n",
       "  'address': ('135 Pine Ave.', 'Oakland', 'CA', '94611'),\n",
       "  'courses': ['English', 'History', 'Literature'],\n",
       "  'average_grade': 94,\n",
       "  'course_grade': {'English': 97, 'History': 94, 'Literature': 91}},\n",
       " {'name': 'Frank',\n",
       "  'grades': [88, 90, 86],\n",
       "  'address': ('369 Cedar Blvd.', 'San Jose', 'CA', '95112'),\n",
       "  'courses': ['Math', 'Computer Science', 'Physics'],\n",
       "  'average_grade': 88,\n",
       "  'course_grade': {'Math': 88, 'Computer Science': 90, 'Physics': 86}},\n",
       " {'name': 'Grace',\n",
       "  'grades': [93, 95, 92],\n",
       "  'address': ('159 Maple St.', 'San Francisco', 'CA', '94108'),\n",
       "  'courses': ['History', 'Geography', 'Social Studies'],\n",
       "  'average_grade': 93,\n",
       "  'course_grade': {'History': 93, 'Geography': 95, 'Social Studies': 92}},\n",
       " {'name': 'Henry',\n",
       "  'grades': [85, 84, 82],\n",
       "  'address': ('753 Oak St.', 'Oakland', 'CA', '94612'),\n",
       "  'courses': ['Music', 'Art', 'Theater'],\n",
       "  'average_grade': 84,\n",
       "  'course_grade': {'Music': 85, 'Art': 84, 'Theater': 82}},\n",
       " {'name': 'Isabelle',\n",
       "  'grades': [96, 97, 98],\n",
       "  'address': ('924 Cedar Ave.', 'San Jose', 'CA', '95113'),\n",
       "  'courses': ['Math', 'Science', 'Engineering'],\n",
       "  'average_grade': 97,\n",
       "  'course_grade': {'Math': 96, 'Science': 97, 'Engineering': 98}},\n",
       " {'name': 'Jack',\n",
       "  'grades': [89, 91, 87],\n",
       "  'address': ('731 Elm St.', 'San Francisco', 'CA', '94109'),\n",
       "  'courses': ['Literature', 'English', 'Philosophy'],\n",
       "  'average_grade': 89,\n",
       "  'course_grade': {'Literature': 89, 'English': 91, 'Philosophy': 87}}]"
      ]
     },
     "execution_count": 80,
     "metadata": {},
     "output_type": "execute_result"
    }
   ],
   "source": [
    "for student in students:\n",
    "    keys=student['courses']\n",
    "    values=student['grades']\n",
    "    student['course_grade']=dict(zip(keys,values))\n",
    "students"
   ]
  }
 ],
 "metadata": {
  "kernelspec": {
   "display_name": "Python 3 (ipykernel)",
   "language": "python",
   "name": "python3"
  },
  "language_info": {
   "codemirror_mode": {
    "name": "ipython",
    "version": 3
   },
   "file_extension": ".py",
   "mimetype": "text/x-python",
   "name": "python",
   "nbconvert_exporter": "python",
   "pygments_lexer": "ipython3",
   "version": "3.10.6"
  }
 },
 "nbformat": 4,
 "nbformat_minor": 5
}
